{
 "cells": [
  {
   "cell_type": "code",
   "execution_count": 1,
   "metadata": {},
   "outputs": [],
   "source": [
    "import tensorflow as tf"
   ]
  },
  {
   "cell_type": "markdown",
   "metadata": {},
   "source": [
    "# Importing libraries\n"
   ]
  },
  {
   "cell_type": "code",
   "execution_count": 2,
   "metadata": {},
   "outputs": [],
   "source": [
    "from keras.models import Sequential\n",
    "from keras.layers import Convolution2D,Flatten,Dense,MaxPooling2D\n",
    "from keras.preprocessing.image import ImageDataGenerator"
   ]
  },
  {
   "cell_type": "markdown",
   "metadata": {},
   "source": [
    "# Loading Images\n"
   ]
  },
  {
   "cell_type": "code",
   "execution_count": 3,
   "metadata": {},
   "outputs": [],
   "source": [
    "train_datagen=ImageDataGenerator(horizontal_flip=True,rescale=1./255,zoom_range=0.2) \n",
    "#rescale=1./255 means transform every pixel value from range [0,255] -> [0,1]."
   ]
  },
  {
   "cell_type": "code",
   "execution_count": 4,
   "metadata": {},
   "outputs": [],
   "source": [
    "test_datagen=ImageDataGenerator(rescale=1./255)"
   ]
  },
  {
   "cell_type": "code",
   "execution_count": 6,
   "metadata": {},
   "outputs": [
    {
     "name": "stdout",
     "output_type": "stream",
     "text": [
      "Found 2508 images belonging to 6 classes.\n"
     ]
    }
   ],
   "source": [
    "X_train=train_datagen.flow_from_directory(r'C:\\Users\\HP\\Downloads\\garbage collection\\dataset\\Training',target_size=(128,128),class_mode='categorical',batch_size=100)"
   ]
  },
  {
   "cell_type": "code",
   "execution_count": 7,
   "metadata": {},
   "outputs": [
    {
     "name": "stdout",
     "output_type": "stream",
     "text": [
      "Found 464 images belonging to 6 classes.\n"
     ]
    }
   ],
   "source": [
    "X_test=test_datagen.flow_from_directory(r'C:\\Users\\HP\\Downloads\\garbage collection\\dataset\\Testing',target_size=(128,128),class_mode='categorical',batch_size=100)"
   ]
  },
  {
   "cell_type": "code",
   "execution_count": 8,
   "metadata": {},
   "outputs": [
    {
     "data": {
      "text/plain": [
       "{'cardboard': 0, 'glass': 1, 'metal': 2, 'paper': 3, 'plastic': 4, 'trash': 5}"
      ]
     },
     "execution_count": 8,
     "metadata": {},
     "output_type": "execute_result"
    }
   ],
   "source": [
    "X_train.class_indices"
   ]
  },
  {
   "cell_type": "markdown",
   "metadata": {},
   "source": [
    "# ModelBuilding"
   ]
  },
  {
   "cell_type": "code",
   "execution_count": 9,
   "metadata": {},
   "outputs": [],
   "source": [
    "model=Sequential()"
   ]
  },
  {
   "cell_type": "code",
   "execution_count": 10,
   "metadata": {},
   "outputs": [],
   "source": [
    "#1)convolution layer\n",
    "model.add(Convolution2D(32,(3,3),input_shape=(128,128,3),activation='relu',padding='same'))"
   ]
  },
  {
   "cell_type": "code",
   "execution_count": 11,
   "metadata": {},
   "outputs": [],
   "source": [
    "#1)maxpooling layer\n",
    "model.add(MaxPooling2D(pool_size=(2,2)))"
   ]
  },
  {
   "cell_type": "code",
   "execution_count": 12,
   "metadata": {},
   "outputs": [],
   "source": [
    "#2)convolution layer\n",
    "model.add(Convolution2D(32,(3,3),activation='relu',padding='same'))\n"
   ]
  },
  {
   "cell_type": "code",
   "execution_count": 13,
   "metadata": {},
   "outputs": [],
   "source": [
    "#2)maxpooling layer\n",
    "model.add(MaxPooling2D(pool_size=(2,2)))"
   ]
  },
  {
   "cell_type": "code",
   "execution_count": 14,
   "metadata": {},
   "outputs": [],
   "source": [
    "#Flatten layer \n",
    "model.add(Flatten())"
   ]
  },
  {
   "cell_type": "code",
   "execution_count": 15,
   "metadata": {},
   "outputs": [
    {
     "name": "stdout",
     "output_type": "stream",
     "text": [
      "Model: \"sequential\"\n",
      "_________________________________________________________________\n",
      " Layer (type)                Output Shape              Param #   \n",
      "=================================================================\n",
      " conv2d (Conv2D)             (None, 128, 128, 32)      896       \n",
      "                                                                 \n",
      " max_pooling2d (MaxPooling2D  (None, 64, 64, 32)       0         \n",
      " )                                                               \n",
      "                                                                 \n",
      " conv2d_1 (Conv2D)           (None, 64, 64, 32)        9248      \n",
      "                                                                 \n",
      " max_pooling2d_1 (MaxPooling  (None, 32, 32, 32)       0         \n",
      " 2D)                                                             \n",
      "                                                                 \n",
      " flatten (Flatten)           (None, 32768)             0         \n",
      "                                                                 \n",
      "=================================================================\n",
      "Total params: 10,144\n",
      "Trainable params: 10,144\n",
      "Non-trainable params: 0\n",
      "_________________________________________________________________\n"
     ]
    }
   ],
   "source": [
    "model.summary()"
   ]
  },
  {
   "cell_type": "code",
   "execution_count": 16,
   "metadata": {},
   "outputs": [],
   "source": [
    "model.add(Dense(300,activation='relu'))#hidden layer\n",
    "model.add(Dense(150,activation='relu'))#hidden layer\n",
    "model.add(Dense(6,activation='softmax'))#output layer"
   ]
  },
  {
   "cell_type": "code",
   "execution_count": 17,
   "metadata": {},
   "outputs": [],
   "source": [
    "model.compile(optimizer=\"adam\",loss=\"categorical_crossentropy\",metrics=['accuracy'])"
   ]
  },
  {
   "cell_type": "code",
   "execution_count": 18,
   "metadata": {},
   "outputs": [
    {
     "name": "stderr",
     "output_type": "stream",
     "text": [
      "C:\\Users\\HP\\AppData\\Local\\Temp\\ipykernel_3448\\710134095.py:3: UserWarning: `Model.fit_generator` is deprecated and will be removed in a future version. Please use `Model.fit`, which supports generators.\n",
      "  model.fit_generator(X_train,validation_data=X_test,epochs=30)\n"
     ]
    },
    {
     "name": "stdout",
     "output_type": "stream",
     "text": [
      "Epoch 1/30\n",
      "26/26 [==============================] - 53s 2s/step - loss: 2.5205 - accuracy: 0.2026 - val_loss: 1.7269 - val_accuracy: 0.2694\n",
      "Epoch 2/30\n",
      "26/26 [==============================] - 30s 1s/step - loss: 1.6390 - accuracy: 0.3082 - val_loss: 1.6313 - val_accuracy: 0.3621\n",
      "Epoch 3/30\n",
      "26/26 [==============================] - 27s 1s/step - loss: 1.4775 - accuracy: 0.4099 - val_loss: 1.4583 - val_accuracy: 0.4073\n",
      "Epoch 4/30\n",
      "26/26 [==============================] - 24s 905ms/step - loss: 1.3761 - accuracy: 0.4633 - val_loss: 1.3710 - val_accuracy: 0.4763\n",
      "Epoch 5/30\n",
      "26/26 [==============================] - 23s 863ms/step - loss: 1.2854 - accuracy: 0.5044 - val_loss: 1.2046 - val_accuracy: 0.5517\n",
      "Epoch 6/30\n",
      "26/26 [==============================] - 23s 872ms/step - loss: 1.2072 - accuracy: 0.5315 - val_loss: 1.2032 - val_accuracy: 0.5453\n",
      "Epoch 7/30\n",
      "26/26 [==============================] - 23s 875ms/step - loss: 1.1438 - accuracy: 0.5686 - val_loss: 1.1098 - val_accuracy: 0.5711\n",
      "Epoch 8/30\n",
      "26/26 [==============================] - 23s 874ms/step - loss: 1.1007 - accuracy: 0.5841 - val_loss: 1.1863 - val_accuracy: 0.5582\n",
      "Epoch 9/30\n",
      "26/26 [==============================] - 24s 910ms/step - loss: 1.0993 - accuracy: 0.5925 - val_loss: 1.0889 - val_accuracy: 0.6056\n",
      "Epoch 10/30\n",
      "26/26 [==============================] - 24s 909ms/step - loss: 0.9814 - accuracy: 0.6431 - val_loss: 1.0366 - val_accuracy: 0.6293\n",
      "Epoch 11/30\n",
      "26/26 [==============================] - 26s 976ms/step - loss: 0.9412 - accuracy: 0.6515 - val_loss: 0.9673 - val_accuracy: 0.6401\n",
      "Epoch 12/30\n",
      "26/26 [==============================] - 26s 1s/step - loss: 0.9615 - accuracy: 0.6487 - val_loss: 1.0169 - val_accuracy: 0.6336\n",
      "Epoch 13/30\n",
      "26/26 [==============================] - 23s 894ms/step - loss: 0.8481 - accuracy: 0.6946 - val_loss: 0.9215 - val_accuracy: 0.6810\n",
      "Epoch 14/30\n",
      "26/26 [==============================] - 24s 902ms/step - loss: 0.7918 - accuracy: 0.7077 - val_loss: 0.9102 - val_accuracy: 0.6573\n",
      "Epoch 15/30\n",
      "26/26 [==============================] - 24s 925ms/step - loss: 0.7830 - accuracy: 0.7205 - val_loss: 0.9499 - val_accuracy: 0.6573\n",
      "Epoch 16/30\n",
      "26/26 [==============================] - 24s 901ms/step - loss: 0.7383 - accuracy: 0.7257 - val_loss: 0.8786 - val_accuracy: 0.6940\n",
      "Epoch 17/30\n",
      "26/26 [==============================] - 24s 901ms/step - loss: 0.6467 - accuracy: 0.7608 - val_loss: 0.9893 - val_accuracy: 0.6552\n",
      "Epoch 18/30\n",
      "26/26 [==============================] - 24s 903ms/step - loss: 0.6780 - accuracy: 0.7552 - val_loss: 0.9714 - val_accuracy: 0.6875\n",
      "Epoch 19/30\n",
      "26/26 [==============================] - 24s 901ms/step - loss: 0.5967 - accuracy: 0.7847 - val_loss: 1.1494 - val_accuracy: 0.6444\n",
      "Epoch 20/30\n",
      "26/26 [==============================] - 23s 888ms/step - loss: 0.6143 - accuracy: 0.7827 - val_loss: 0.8612 - val_accuracy: 0.7091\n",
      "Epoch 21/30\n",
      "26/26 [==============================] - 24s 902ms/step - loss: 0.5808 - accuracy: 0.7959 - val_loss: 0.9325 - val_accuracy: 0.6767\n",
      "Epoch 22/30\n",
      "26/26 [==============================] - 24s 898ms/step - loss: 0.5260 - accuracy: 0.8114 - val_loss: 1.1117 - val_accuracy: 0.6379\n",
      "Epoch 23/30\n",
      "26/26 [==============================] - 24s 894ms/step - loss: 0.5330 - accuracy: 0.8114 - val_loss: 0.8658 - val_accuracy: 0.7134\n",
      "Epoch 24/30\n",
      "26/26 [==============================] - 25s 955ms/step - loss: 0.4368 - accuracy: 0.8453 - val_loss: 0.9345 - val_accuracy: 0.7134\n",
      "Epoch 25/30\n",
      "26/26 [==============================] - 25s 928ms/step - loss: 0.4126 - accuracy: 0.8497 - val_loss: 0.9418 - val_accuracy: 0.7026\n",
      "Epoch 26/30\n",
      "26/26 [==============================] - 25s 940ms/step - loss: 0.4281 - accuracy: 0.8525 - val_loss: 0.8707 - val_accuracy: 0.7155\n",
      "Epoch 27/30\n",
      "26/26 [==============================] - 25s 944ms/step - loss: 0.3580 - accuracy: 0.8784 - val_loss: 0.8923 - val_accuracy: 0.7241\n",
      "Epoch 28/30\n",
      "26/26 [==============================] - 24s 907ms/step - loss: 0.4115 - accuracy: 0.8525 - val_loss: 1.2286 - val_accuracy: 0.6466\n",
      "Epoch 29/30\n",
      "26/26 [==============================] - 25s 954ms/step - loss: 0.4006 - accuracy: 0.8668 - val_loss: 1.0443 - val_accuracy: 0.6832\n",
      "Epoch 30/30\n",
      "26/26 [==============================] - 25s 957ms/step - loss: 0.4004 - accuracy: 0.8612 - val_loss: 1.0122 - val_accuracy: 0.7177\n"
     ]
    },
    {
     "data": {
      "text/plain": [
       "<keras.callbacks.History at 0x240d6399220>"
      ]
     },
     "execution_count": 18,
     "metadata": {},
     "output_type": "execute_result"
    }
   ],
   "source": [
    "#training \n",
    "#Note :increse epochs number\n",
    "model.fit_generator(X_train,validation_data=X_test,epochs=30)"
   ]
  },
  {
   "cell_type": "code",
   "execution_count": 19,
   "metadata": {},
   "outputs": [],
   "source": [
    "model.save('garbage.h5')"
   ]
  },
  {
   "cell_type": "code",
   "execution_count": 20,
   "metadata": {},
   "outputs": [],
   "source": [
    "import numpy as np\n",
    "from keras.preprocessing import image"
   ]
  },
  {
   "cell_type": "markdown",
   "metadata": {},
   "source": [
    "# Testing"
   ]
  },
  {
   "cell_type": "code",
   "execution_count": 25,
   "metadata": {},
   "outputs": [],
   "source": [
    "from tensorflow.keras.models import load_model\n",
    "from tensorflow.keras.preprocessing import image\n",
    "model=load_model(r\"C:\\Users\\HP\\Downloads\\garbage collection\\garbage.h5\")\n"
   ]
  },
  {
   "cell_type": "code",
   "execution_count": 26,
   "metadata": {},
   "outputs": [
    {
     "data": {
      "text/plain": [
       "(128, 128, 3)"
      ]
     },
     "execution_count": 26,
     "metadata": {},
     "output_type": "execute_result"
    }
   ],
   "source": [
    "#patch of image you  want to predict \n",
    "img=image.load_img(r\"C:\\Users\\HP\\Downloads\\garbage collection\\dataset\\Training\\glass\\\\brown-glass14.jpg\",target_size=(128,128))\n",
    "x=image.img_to_array(img)#img to array\n",
    "x.shape"
   ]
  },
  {
   "cell_type": "code",
   "execution_count": 27,
   "metadata": {},
   "outputs": [
    {
     "data": {
      "text/plain": [
       "(1, 128, 128, 3)"
      ]
     },
     "execution_count": 27,
     "metadata": {},
     "output_type": "execute_result"
    }
   ],
   "source": [
    "x=np.expand_dims(x,axis=0)#used for adding one more dimension\n",
    "x.shape"
   ]
  },
  {
   "cell_type": "code",
   "execution_count": 34,
   "metadata": {},
   "outputs": [
    {
     "data": {
      "text/plain": [
       "'2.9.1'"
      ]
     },
     "execution_count": 34,
     "metadata": {},
     "output_type": "execute_result"
    }
   ],
   "source": [
    "import tensorflow as tp\n",
    "tp.__version__\n",
    "#prediction=model.predict_classes(x)#instead of predict_classes(x) we can use predict(X)\n",
    "#prediction"
   ]
  },
  {
   "cell_type": "code",
   "execution_count": 29,
   "metadata": {},
   "outputs": [],
   "source": [
    "index=[\"cardbord\",\"glass\",\"metal\",\"paper\",\"plastic\",\"trash\"]"
   ]
  },
  {
   "cell_type": "code",
   "execution_count": 30,
   "metadata": {},
   "outputs": [
    {
     "ename": "NameError",
     "evalue": "name 'prediction' is not defined",
     "output_type": "error",
     "traceback": [
      "\u001b[1;31m---------------------------------------------------------------------------\u001b[0m",
      "\u001b[1;31mNameError\u001b[0m                                 Traceback (most recent call last)",
      "Input \u001b[1;32mIn [30]\u001b[0m, in \u001b[0;36m<cell line: 1>\u001b[1;34m()\u001b[0m\n\u001b[1;32m----> 1\u001b[0m result\u001b[38;5;241m=\u001b[39m\u001b[38;5;28mstr\u001b[39m(index[\u001b[43mprediction\u001b[49m[\u001b[38;5;241m0\u001b[39m]])\n\u001b[0;32m      2\u001b[0m result\n",
      "\u001b[1;31mNameError\u001b[0m: name 'prediction' is not defined"
     ]
    }
   ],
   "source": [
    "result=str(index[prediction[0]])\n",
    "result"
   ]
  },
  {
   "cell_type": "code",
   "execution_count": 42,
   "metadata": {},
   "outputs": [],
   "source": [
    "#from tensorflow.keras.models import load_model\n",
    "#model=load_model(\"D:\\chetu\\ML\\Garbage Classification Using CNN\\garbage.h5\")"
   ]
  },
  {
   "cell_type": "code",
   "execution_count": null,
   "metadata": {},
   "outputs": [],
   "source": []
  }
 ],
 "metadata": {
  "interpreter": {
   "hash": "b8adb3b6b06e3681f9285198c54846cbe87e14e4c23e5f143135856c18f49bf3"
  },
  "kernelspec": {
   "display_name": "Python 3 (ipykernel)",
   "language": "python",
   "name": "python3"
  },
  "language_info": {
   "codemirror_mode": {
    "name": "ipython",
    "version": 3
   },
   "file_extension": ".py",
   "mimetype": "text/x-python",
   "name": "python",
   "nbconvert_exporter": "python",
   "pygments_lexer": "ipython3",
   "version": "3.9.12"
  }
 },
 "nbformat": 4,
 "nbformat_minor": 2
}
